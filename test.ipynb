{
  "cells": [
    {
      "cell_type": "markdown",
      "metadata": {
        "id": "IXupuu8TjJsn"
      },
      "source": [
        "# Set up Requirements"
      ]
    },
    {
      "cell_type": "code",
      "execution_count": null,
      "metadata": {
        "id": "WBDffOplewUC"
      },
      "outputs": [],
      "source": [
        "# Clone Repository and Travel to Directory\n",
        "!git clone https://github.com/FranckSoma/ChatGPT_Code_Improver.git\n",
        "%cd ChatGPT_Code_Improver\n",
        "\n",
        "# Install Dependencies\n",
        "!pip install -r requirements.txt\n"
      ]
    },
    {
      "cell_type": "markdown",
      "metadata": {
        "id": "1vt5MMVeuIpa"
      },
      "source": [
        "# Generate Images\n",
        "\n"
      ]
    },
    {
      "cell_type": "code",
      "execution_count": null,
      "metadata": {
        "id": "lak40eNZuQKd"
      },
      "outputs": [],
      "source": [
        "!python -m torch.distributed.launch --nproc_per_node=1 /content/ChatGPT_Code_Improver/train_styleswin.py --sample_path /content/ChatGPT_Code_Improver/generated_images --size 256 --G_channel_multiplier 2 --ckpt /content/ChatGPT_Code_Improver/models/FFHQ_256.pt --eval --val_num_batches 1 --val_batch_size 2\n"
      ]
    }
  ],
  "metadata": {
    "colab": {
      "provenance": []
    },
    "kernelspec": {
      "display_name": "Python 3",
      "name": "python3"
    },
    "language_info": {
      "name": "python"
    }
  },
  "nbformat": 4,
  "nbformat_minor": 0
}
